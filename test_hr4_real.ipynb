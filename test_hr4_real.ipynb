{
  "nbformat": 4,
  "nbformat_minor": 0,
  "metadata": {
    "colab": {
      "name": "test_hr4_real.ipynb",
      "provenance": [],
      "include_colab_link": true
    },
    "kernelspec": {
      "name": "python3",
      "display_name": "Python 3"
    },
    "language_info": {
      "name": "python"
    }
  },
  "cells": [
    {
      "cell_type": "markdown",
      "metadata": {
        "id": "view-in-github",
        "colab_type": "text"
      },
      "source": [
        "<a href=\"https://colab.research.google.com/github/barauna-lo/Cross_Correlation/blob/main/test_hr4_real.ipynb\" target=\"_parent\"><img src=\"https://colab.research.google.com/assets/colab-badge.svg\" alt=\"Open In Colab\"/></a>"
      ]
    },
    {
      "cell_type": "markdown",
      "metadata": {
        "id": "zxRxv6djVEEW"
      },
      "source": [
        "It's nice to comment the what all cells is doing! That will help us in the future to re-understand the code."
      ]
    },
    {
      "cell_type": "code",
      "metadata": {
        "colab": {
          "base_uri": "https://localhost:8080/"
        },
        "id": "fvs-Vmqi_WED",
        "outputId": "ed7c245c-fdec-4f91-d074-7a70f4316cc5"
      },
      "source": [
        "#I put a # in front of the url for files that I don't want now\n",
        "#This cell take the files from the HR4 site\n",
        "!wget -i /content/teste_colab.txt \\\n",
        "  -P /content/files_download/"
      ],
      "execution_count": null,
      "outputs": [
        {
          "output_type": "stream",
          "name": "stdout",
          "text": [
            "/content/teste_colab.txt: No such file or directory\n",
            "No URLs found in /content/teste_colab.txt.\n"
          ]
        }
      ]
    },
    {
      "cell_type": "code",
      "metadata": {
        "colab": {
          "base_uri": "https://localhost:8080/"
        },
        "id": "sfppJw5EFip1",
        "outputId": "64965722-3f96-481c-bfa4-47237574cdd8"
      },
      "source": [
        "#from google.colab import drive\n",
        "#drive.mount('MyDrive')"
      ],
      "execution_count": null,
      "outputs": [
        {
          "output_type": "stream",
          "name": "stdout",
          "text": [
            "Mounted at MyDrive\n"
          ]
        }
      ]
    },
    {
      "cell_type": "code",
      "metadata": {
        "id": "ZaY8KBJFeprf"
      },
      "source": [
        "#There's a 'ghost' file in the folder you need to remove\n",
        "rmdir /content/files_download/.ipynb_checkpoints "
      ],
      "execution_count": null,
      "outputs": []
    },
    {
      "cell_type": "code",
      "metadata": {
        "colab": {
          "base_uri": "https://localhost:8080/"
        },
        "id": "G9LySTPxADp1",
        "outputId": "51b57935-5411-4b83-f93e-044d77ddf533"
      },
      "source": [
        "!pip install healpy\n",
        "\n",
        "import numpy as np\n",
        "import h5py                              ## For to work with huge amounts of numerical data \n",
        "from scipy.optimize import curve_fit\n",
        "import os                                ## Directory reading\n",
        "import matplotlib.pyplot as plt\n",
        "from scipy.interpolate import interp1d   ## For to interpolate values between arrays?\n",
        "import healpy as hp\n",
        "from astropy.cosmology import FlatLambdaCDM, z_at_value ## Cosmological tools of astropy\n",
        "import astropy.units as u\n",
        "\n",
        "\n",
        "cosmo = FlatLambdaCDM(Om0=0.26,H0=72)\n",
        "\n",
        "frequency = np.linspace(980.,1260.,31)   ## Frequency range of the BINGO \n",
        "redshift = 1420.40575177/frequency - 1.  ## Redshift compare with the HI frequency\n",
        "distance = cosmo.comoving_distance(redshift).value * cosmo.h ## The distance at a given redshift, without unitis,\n",
        "\n",
        "total = np.zeros(33,dtype=int)\n",
        "j = 1\n",
        "for i in os.listdir(\"/content/files_download/\"):\n",
        "    f = h5py.File(\"/content/files_download/\"+i,\"r\")\n",
        "    n = f[\"mass\"].len()\n",
        "    total[j] = total[j-1]+n\n",
        "    j += 1\n",
        "\n",
        "x = []#np.zeros(total[-1])\n",
        "y = []#np.zeros(total[-1])\n",
        "z = []#np.zeros(total[-1])\n",
        "m = []#np.zeros(total[-1])\n",
        "j = 1\n",
        "for i in os.listdir(\"/content/files_download\"):\n",
        "\tf = h5py.File(\"/content/files_download/\"+i,\"r\")\n",
        "\tx[total[j-1]:total[j]] = np.asarray(f[\"x\"])\n",
        "\ty[total[j-1]:total[j]] = np.asarray(f[\"y\"])\n",
        "\tz[total[j-1]:total[j]] = np.asarray(f[\"z\"])\n",
        "\tm[total[j-1]:total[j]] = np.asarray(f[\"mass\"])\n",
        "\tj += 1\n",
        "\n",
        "print (\"data loading done\")\n",
        "\n",
        "at_value_z = np.arange(0.01,1.00,0.01)                   ## Defining the redshift range\n",
        "at_value_r = cosmo.comoving_distance(at_value_z).value   ## Calculating the distance, without units\n",
        "interp_rtoz = interp1d(at_value_r,at_value_z,fill_value=\"extrapolate\")\n",
        "\n",
        "r = []\n",
        "for i in range(0,len(x)):\n",
        "  r.append(np.sqrt(x[i]**2+y[i]**2+z[i]**2))\n",
        "\n",
        "rx=[]\n",
        "ry=[]\n",
        "rz=[]\n",
        "zeros = np.zeros(len(x))\n",
        "k=0\n",
        "def add_terms(a,b,c,x,y,z,l):\n",
        "\ta.append(x[l])\n",
        "\tb.append(y[l])\n",
        "\tc.append(z[l])\n",
        "\treturn a,b,c\n",
        "while(k<2):\n",
        "\tfor i in range(0,len(x)):\n",
        "\t\tif r[i]<distance[k] and r[i]>distance[k+1]:\n",
        "\t\t\tadd_terms(rx,ry,rz,x,y,z,i)\n",
        "\t\telse:\n",
        "\t\t\tadd_terms(rx,ry,rz,zeros,zeros,zeros,i)\t\t\t \n",
        "\t# vec2pix function translate the vector x,y,z into the location in healpix pixel\n",
        "\trpix = hp.vec2pix(256,rx,ry,rz)\n",
        "\tnpix = hp.pixelfunc.nside2npix(256)\n",
        "\t# the pixel location histogram calculate the galaxy number in each pixel, divided by the volume in each pixel, which is the pixel area times the depth  \n",
        "\trmap = np.histogram(rpix,bins=np.arange(0,npix+1,1))[0]\n",
        "\tvolume = cosmo.comoving_volume(redshift[k]) - cosmo.comoving_volume(redshift[k+1]) ## Deep of pixel in redshift\n",
        "\tvolume = volume.value * cosmo.h**3./hp.nside2npix(256)                             ## Divided by area?\n",
        "\trrho = rmap/volume                                                                 ## Density \n",
        "# save the data in numpy binary format in the proper location\n",
        "\tnp.save(\"/content/mocks/\"+str(k)+\"Mhz.npy\",rrho)\t\n",
        "\tk += 1"
      ],
      "execution_count": null,
      "outputs": [
        {
          "output_type": "stream",
          "name": "stdout",
          "text": [
            "Requirement already satisfied: healpy in /usr/local/lib/python3.7/dist-packages (1.15.0)\n",
            "Requirement already satisfied: scipy in /usr/local/lib/python3.7/dist-packages (from healpy) (1.4.1)\n",
            "Requirement already satisfied: matplotlib in /usr/local/lib/python3.7/dist-packages (from healpy) (3.2.2)\n",
            "Requirement already satisfied: astropy in /usr/local/lib/python3.7/dist-packages (from healpy) (4.3.1)\n",
            "Requirement already satisfied: numpy>=1.13 in /usr/local/lib/python3.7/dist-packages (from healpy) (1.19.5)\n",
            "Requirement already satisfied: importlib-metadata in /usr/local/lib/python3.7/dist-packages (from astropy->healpy) (4.8.1)\n",
            "Requirement already satisfied: pyerfa>=1.7.3 in /usr/local/lib/python3.7/dist-packages (from astropy->healpy) (2.0.0)\n",
            "Requirement already satisfied: zipp>=0.5 in /usr/local/lib/python3.7/dist-packages (from importlib-metadata->astropy->healpy) (3.6.0)\n",
            "Requirement already satisfied: typing-extensions>=3.6.4 in /usr/local/lib/python3.7/dist-packages (from importlib-metadata->astropy->healpy) (3.7.4.3)\n",
            "Requirement already satisfied: python-dateutil>=2.1 in /usr/local/lib/python3.7/dist-packages (from matplotlib->healpy) (2.8.2)\n",
            "Requirement already satisfied: cycler>=0.10 in /usr/local/lib/python3.7/dist-packages (from matplotlib->healpy) (0.10.0)\n",
            "Requirement already satisfied: kiwisolver>=1.0.1 in /usr/local/lib/python3.7/dist-packages (from matplotlib->healpy) (1.3.2)\n",
            "Requirement already satisfied: pyparsing!=2.0.4,!=2.1.2,!=2.1.6,>=2.0.1 in /usr/local/lib/python3.7/dist-packages (from matplotlib->healpy) (2.4.7)\n",
            "Requirement already satisfied: six in /usr/local/lib/python3.7/dist-packages (from cycler>=0.10->matplotlib->healpy) (1.15.0)\n",
            "data loading done\n"
          ]
        },
        {
          "output_type": "stream",
          "name": "stderr",
          "text": [
            "/usr/local/lib/python3.7/dist-packages/healpy/pixelfunc.py:656: RuntimeWarning: divide by zero encountered in _vec2pix_ring\n",
            "  return pixlib._vec2pix_ring(nside, x, y, z)\n",
            "/usr/local/lib/python3.7/dist-packages/healpy/pixelfunc.py:656: RuntimeWarning: invalid value encountered in _vec2pix_ring\n",
            "  return pixlib._vec2pix_ring(nside, x, y, z)\n"
          ]
        }
      ]
    },
    {
      "cell_type": "code",
      "metadata": {
        "id": "aDv1rSlOG7YA"
      },
      "source": [
        "#This cell do a 3D box with the points x,y,z, only to visualize the data.\n",
        "#I've only tested it with only one file HR4.\n",
        "from mpl_toolkits.mplot3d import Axes3D\n",
        "fig = plt.figure()\n",
        "ax = Axes3D(fig)\n",
        "ax.scatter(x,y,z,s=0.000001)\n",
        "plt.show()"
      ],
      "execution_count": null,
      "outputs": []
    }
  ]
}